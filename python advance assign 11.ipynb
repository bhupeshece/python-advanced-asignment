{
 "cells": [
  {
   "cell_type": "code",
   "execution_count": 1,
   "id": "897ffb76",
   "metadata": {},
   "outputs": [
    {
     "data": {
      "text/plain": [
       "'metaclass is a class whose instances are classes\\na metaclass defines the behaviour of certain classes and their instances'"
      ]
     },
     "execution_count": 1,
     "metadata": {},
     "output_type": "execute_result"
    }
   ],
   "source": [
    "\n",
    "#Q1\n",
    "'''metaclass is a class whose instances are classes\n",
    "a metaclass defines the behaviour of certain classes and their instances'''"
   ]
  },
  {
   "cell_type": "code",
   "execution_count": 2,
   "id": "b5d25505",
   "metadata": {},
   "outputs": [
    {
     "data": {
      "text/plain": [
       "'by adding __metaclass__ attribute whenever we write a class'"
      ]
     },
     "execution_count": 2,
     "metadata": {},
     "output_type": "execute_result"
    }
   ],
   "source": [
    "\n",
    "#Q2\n",
    "'''by adding __metaclass__ attribute whenever we write a class'''"
   ]
  },
  {
   "cell_type": "code",
   "execution_count": 3,
   "id": "9c683996",
   "metadata": {},
   "outputs": [
    {
     "data": {
      "text/plain": [
       "'class decorators sometimes overlap metaclass in terms of functionality\\nclass decorators can augment classes independent of any created instances'"
      ]
     },
     "execution_count": 3,
     "metadata": {},
     "output_type": "execute_result"
    }
   ],
   "source": [
    "\n",
    "#Q3\n",
    "'''class decorators sometimes overlap metaclass in terms of functionality\n",
    "class decorators can augment classes independent of any created instances'''"
   ]
  },
  {
   "cell_type": "code",
   "execution_count": 4,
   "id": "1f7b7a76",
   "metadata": {},
   "outputs": [
    {
     "data": {
      "text/plain": [
       "'decorators return the original class , instances are made from it \\ndecorators can be used both instances and classes and they intersect with metaclasses'"
      ]
     },
     "execution_count": 4,
     "metadata": {},
     "output_type": "execute_result"
    }
   ],
   "source": [
    "#Q4\n",
    "\"\"\"decorators return the original class , instances are made from it \n",
    "decorators can be used both instances and classes and they intersect with metaclasses\"\"\""
   ]
  },
  {
   "cell_type": "code",
   "execution_count": null,
   "id": "e723ff4b",
   "metadata": {},
   "outputs": [],
   "source": []
  }
 ],
 "metadata": {
  "kernelspec": {
   "display_name": "Python 3 (ipykernel)",
   "language": "python",
   "name": "python3"
  },
  "language_info": {
   "codemirror_mode": {
    "name": "ipython",
    "version": 3
   },
   "file_extension": ".py",
   "mimetype": "text/x-python",
   "name": "python",
   "nbconvert_exporter": "python",
   "pygments_lexer": "ipython3",
   "version": "3.10.9"
  }
 },
 "nbformat": 4,
 "nbformat_minor": 5
}
