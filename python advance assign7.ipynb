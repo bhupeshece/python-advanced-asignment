{
 "cells": [
  {
   "cell_type": "code",
   "execution_count": 1,
   "id": "281c856d",
   "metadata": {},
   "outputs": [
    {
     "data": {
      "text/plain": [
       "\"it is used to catch exceptions that might be thrown as your program executes,\\nso that the program won't crash if exception occurs \""
      ]
     },
     "execution_count": 1,
     "metadata": {},
     "output_type": "execute_result"
    }
   ],
   "source": [
    "#Q1\n",
    "'''it is used to catch exceptions that might be thrown as your program executes,\n",
    "so that the program won't crash if exception occurs '''"
   ]
  },
  {
   "cell_type": "code",
   "execution_count": 2,
   "id": "33cb4117",
   "metadata": {},
   "outputs": [
    {
     "data": {
      "text/plain": [
       "'syntax error\\nexceptions'"
      ]
     },
     "execution_count": 2,
     "metadata": {},
     "output_type": "execute_result"
    }
   ],
   "source": [
    "#Q2\n",
    "'''syntax error\n",
    "exceptions'''"
   ]
  },
  {
   "cell_type": "code",
   "execution_count": 3,
   "id": "277a5025",
   "metadata": {},
   "outputs": [
    {
     "data": {
      "text/plain": [
       "'it allows the programmer to force a specific exception to occur ,raise statement can raise predefined exceptions'"
      ]
     },
     "execution_count": 3,
     "metadata": {},
     "output_type": "execute_result"
    }
   ],
   "source": [
    "#Q3\n",
    "'''it allows the programmer to force a specific exception to occur ,raise statement can raise predefined exceptions'''"
   ]
  },
  {
   "cell_type": "code",
   "execution_count": 4,
   "id": "d67e358e",
   "metadata": {},
   "outputs": [
    {
     "data": {
      "text/plain": [
       "'it checks wheather a condition is true or false\\nif it is true it keeps on running and if it is false than it will return assertion error'"
      ]
     },
     "execution_count": 4,
     "metadata": {},
     "output_type": "execute_result"
    }
   ],
   "source": [
    "#Q4\n",
    "'''it checks wheather a condition is true or false\n",
    "if it is true it keeps on running and if it is false than it will return assertion error'''"
   ]
  },
  {
   "cell_type": "code",
   "execution_count": 5,
   "id": "1fa23531",
   "metadata": {},
   "outputs": [
    {
     "data": {
      "text/plain": [
       "'The with statement is used for resource management and exception handling\\nthe statement ensures that the file stream process doesn’t block other processes if an exception is raised'"
      ]
     },
     "execution_count": 5,
     "metadata": {},
     "output_type": "execute_result"
    }
   ],
   "source": [
    "#Q5\n",
    "'''The with statement is used for resource management and exception handling\n",
    "the statement ensures that the file stream process doesn’t block other processes if an exception is raised'''"
   ]
  },
  {
   "cell_type": "code",
   "execution_count": null,
   "id": "72c123fa",
   "metadata": {},
   "outputs": [],
   "source": []
  }
 ],
 "metadata": {
  "kernelspec": {
   "display_name": "Python 3 (ipykernel)",
   "language": "python",
   "name": "python3"
  },
  "language_info": {
   "codemirror_mode": {
    "name": "ipython",
    "version": 3
   },
   "file_extension": ".py",
   "mimetype": "text/x-python",
   "name": "python",
   "nbconvert_exporter": "python",
   "pygments_lexer": "ipython3",
   "version": "3.10.9"
  }
 },
 "nbformat": 4,
 "nbformat_minor": 5
}
