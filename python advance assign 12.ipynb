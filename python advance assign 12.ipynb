{
 "cells": [
  {
   "cell_type": "code",
   "execution_count": 1,
   "id": "a518c2ba",
   "metadata": {},
   "outputs": [
    {
     "data": {
      "text/plain": [
       "'strings are immutable\\nthe best way we can do is create a new string that is a variation on the original'"
      ]
     },
     "execution_count": 1,
     "metadata": {},
     "output_type": "execute_result"
    }
   ],
   "source": [
    "#Q1\n",
    "'''strings are immutable\n",
    "the best way we can do is create a new string that is a variation on the original'''"
   ]
  },
  {
   "cell_type": "code",
   "execution_count": 2,
   "id": "e77684c7",
   "metadata": {},
   "outputs": [
    {
     "data": {
      "text/plain": [
       "\"+= string operation violates the python's string immutability\\nbecause the The new value is supposed to be created before the assignment happens,\\nand the old value's lifetime only ends once the new value is assigned to the variable\""
      ]
     },
     "execution_count": 2,
     "metadata": {},
     "output_type": "execute_result"
    }
   ],
   "source": [
    "#Q2\n",
    "'''+= string operation violates the python's string immutability\n",
    "because the The new value is supposed to be created before the assignment happens,\n",
    "and the old value's lifetime only ends once the new value is assigned to the variable'''"
   ]
  },
  {
   "cell_type": "code",
   "execution_count": 3,
   "id": "d05a4202",
   "metadata": {},
   "outputs": [
    {
     "data": {
      "text/plain": [
       "'there are 2 ways\\naccessing characters by positive index number\\naccessing characters by negative index number'"
      ]
     },
     "execution_count": 3,
     "metadata": {},
     "output_type": "execute_result"
    }
   ],
   "source": [
    "#Q3\n",
    "'''there are 2 ways\n",
    "accessing characters by positive index number\n",
    "accessing characters by negative index number'''"
   ]
  },
  {
   "cell_type": "code",
   "execution_count": 4,
   "id": "647a0329",
   "metadata": {},
   "outputs": [
    {
     "data": {
      "text/plain": [
       "'indexing means pointing to an element by its position\\nslicing means getting a subset of an element based on their indices'"
      ]
     },
     "execution_count": 4,
     "metadata": {},
     "output_type": "execute_result"
    }
   ],
   "source": [
    "#Q4\n",
    "'''indexing means pointing to an element by its position\n",
    "slicing means getting a subset of an element based on their indices'''"
   ]
  },
  {
   "cell_type": "code",
   "execution_count": 5,
   "id": "c3f40a1b",
   "metadata": {},
   "outputs": [
    {
     "data": {
      "text/plain": [
       "'char\\nYourString[StartingIndex:StoppingIndex:CharactersToSkip]'"
      ]
     },
     "execution_count": 5,
     "metadata": {},
     "output_type": "execute_result"
    }
   ],
   "source": [
    "#Q5\n",
    "'''char\n",
    "YourString[StartingIndex:StoppingIndex:CharactersToSkip]'''"
   ]
  },
  {
   "cell_type": "code",
   "execution_count": 6,
   "id": "45e8b4fd",
   "metadata": {},
   "outputs": [
    {
     "data": {
      "text/plain": [
       "'strings are arrays of bytes representing unicode characters\\ncharacter does not have a data type'"
      ]
     },
     "execution_count": 6,
     "metadata": {},
     "output_type": "execute_result"
    }
   ],
   "source": [
    "#Q6\n",
    "\"\"\"strings are arrays of bytes representing unicode characters\n",
    "character does not have a data type\"\"\""
   ]
  },
  {
   "cell_type": "code",
   "execution_count": 7,
   "id": "28b97e40",
   "metadata": {},
   "outputs": [
    {
     "data": {
      "text/plain": [
       "'+ and * oparators\\njoin() method'"
      ]
     },
     "execution_count": 7,
     "metadata": {},
     "output_type": "execute_result"
    }
   ],
   "source": [
    "#Q7\n",
    "'''+ and * oparators\n",
    "join() method''' "
   ]
  },
  {
   "cell_type": "code",
   "execution_count": 8,
   "id": "55c022e5",
   "metadata": {},
   "outputs": [
    {
     "data": {
      "text/plain": [
       "'AND , OR , NOT '"
      ]
     },
     "execution_count": 8,
     "metadata": {},
     "output_type": "execute_result"
    }
   ],
   "source": [
    "#Q9\n",
    "\"\"\"AND , OR , NOT \"\"\""
   ]
  },
  {
   "cell_type": "code",
   "execution_count": null,
   "id": "7c2965ed",
   "metadata": {},
   "outputs": [],
   "source": []
  }
 ],
 "metadata": {
  "kernelspec": {
   "display_name": "Python 3 (ipykernel)",
   "language": "python",
   "name": "python3"
  },
  "language_info": {
   "codemirror_mode": {
    "name": "ipython",
    "version": 3
   },
   "file_extension": ".py",
   "mimetype": "text/x-python",
   "name": "python",
   "nbconvert_exporter": "python",
   "pygments_lexer": "ipython3",
   "version": "3.10.9"
  }
 },
 "nbformat": 4,
 "nbformat_minor": 5
}
