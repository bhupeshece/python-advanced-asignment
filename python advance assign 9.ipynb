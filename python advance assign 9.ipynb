{
 "cells": [
  {
   "cell_type": "code",
   "execution_count": 1,
   "id": "30548b83",
   "metadata": {},
   "outputs": [
    {
     "data": {
      "text/plain": [
       "\"\\nstr.isnumeric() - String consists of only numeric characters\\nstr.isspace() - String consists of only whitespace characters\\nstr.istitle() - String is in title case\\nstr.isupper() - String's alphabetic characters are all upper case\\netc\\n\""
      ]
     },
     "execution_count": 1,
     "metadata": {},
     "output_type": "execute_result"
    }
   ],
   "source": [
    "#Q1\n",
    "\"\"\"\n",
    "str.isnumeric() - String consists of only numeric characters\n",
    "str.isspace() - String consists of only whitespace characters\n",
    "str.istitle() - String is in title case\n",
    "str.isupper() - String's alphabetic characters are all upper case\n",
    "etc\n",
    "\"\"\""
   ]
  },
  {
   "cell_type": "code",
   "execution_count": 2,
   "id": "e31fa50d",
   "metadata": {},
   "outputs": [
    {
     "data": {
      "text/plain": [
       "'\\nput the sequence of characters inside either single quotes, double quotes, or triple quotes and then assign it to a variable.\\n\\nThe string operations include concatenation, scanning, substringing, translation, and verification. \\nString operations can only be used on character, graphic, or UCS-2 fields. The CAT operation concatenates two strings to form one.\\n'"
      ]
     },
     "execution_count": 2,
     "metadata": {},
     "output_type": "execute_result"
    }
   ],
   "source": [
    "#Q2\n",
    "\"\"\"\n",
    "put the sequence of characters inside either single quotes, double quotes, or triple quotes and then assign it to a variable.\n",
    "\n",
    "The string operations include concatenation, scanning, substringing, translation, and verification. \n",
    "String operations can only be used on character, graphic, or UCS-2 fields. The CAT operation concatenates two strings to form one.\n",
    "\"\"\""
   ]
  },
  {
   "cell_type": "code",
   "execution_count": 3,
   "id": "e11183f6",
   "metadata": {},
   "outputs": [
    {
     "data": {
      "text/plain": [
       "'\\nIn order to use non-ASCII characters, Python requires explicit encoding and decoding of strings into Unicode.\\nPython scripts are assumed to be encoded in UTF-8, which is a standard Unicode encoding that supports non-ASCII characters.\\n'"
      ]
     },
     "execution_count": 3,
     "metadata": {},
     "output_type": "execute_result"
    }
   ],
   "source": [
    "#Q3\n",
    "\"\"\"\n",
    "In order to use non-ASCII characters, Python requires explicit encoding and decoding of strings into Unicode.\n",
    "Python scripts are assumed to be encoded in UTF-8, which is a standard Unicode encoding that supports non-ASCII characters.\n",
    "\"\"\"\n"
   ]
  },
  {
   "cell_type": "code",
   "execution_count": 4,
   "id": "635c33ce",
   "metadata": {},
   "outputs": [
    {
     "data": {
      "text/plain": [
       "'\\nThe major difference between these two is that a text file contains textual information in the form of alphabets, digits and special characters or symbols. \\nOn the other hand, a binary file contains bytes or a compiled version of a text file.\\n'"
      ]
     },
     "execution_count": 4,
     "metadata": {},
     "output_type": "execute_result"
    }
   ],
   "source": [
    "#Q4\n",
    "\"\"\"\n",
    "The major difference between these two is that a text file contains textual information in the form of alphabets, digits and special characters or symbols. \n",
    "On the other hand, a binary file contains bytes or a compiled version of a text file.\n",
    "\"\"\""
   ]
  },
  {
   "cell_type": "code",
   "execution_count": 5,
   "id": "b289e7a4",
   "metadata": {},
   "outputs": [
    {
     "data": {
      "text/plain": [
       "\"\\nPython's string type uses the Unicode Standard for representing characters, which lets Python programs work with all these different possible characters.\\nUnicode is a specification that aims to list every character used by human languages and give each character its own unique code.\\n\""
      ]
     },
     "execution_count": 5,
     "metadata": {},
     "output_type": "execute_result"
    }
   ],
   "source": [
    "#Q5\n",
    "\"\"\"\n",
    "Python's string type uses the Unicode Standard for representing characters, which lets Python programs work with all these different possible characters.\n",
    "Unicode is a specification that aims to list every character used by human languages and give each character its own unique code.\n",
    "\"\"\"\n"
   ]
  },
  {
   "cell_type": "code",
   "execution_count": 6,
   "id": "5b5f652d",
   "metadata": {},
   "outputs": [
    {
     "data": {
      "text/plain": [
       "'\\nencode method does, and the result of encoding a unicode string is a bytestring.\\nYou should either use normal open() and encode the unicode yourself, or use codecs.\\nopen() and not encode the data yourself\\n'"
      ]
     },
     "execution_count": 6,
     "metadata": {},
     "output_type": "execute_result"
    }
   ],
   "source": [
    "#Q6\n",
    "\"\"\"\n",
    "encode method does, and the result of encoding a unicode string is a bytestring.\n",
    "You should either use normal open() and encode the unicode yourself, or use codecs.\n",
    "open() and not encode the data yourself\n",
    "\"\"\""
   ]
  },
  {
   "cell_type": "code",
   "execution_count": 7,
   "id": "eb54bfbc",
   "metadata": {},
   "outputs": [
    {
     "data": {
      "text/plain": [
       "'\\nthe first 128 Unicode characters point to ASCII characters. \\nAnd since UTF-8 encodes each of those characters using 1-byte.\\nASCII is essentially just UTF-8, or we can say that ASCII is a subset of Unicode\\n'"
      ]
     },
     "execution_count": 7,
     "metadata": {},
     "output_type": "execute_result"
    }
   ],
   "source": [
    "#Q7\n",
    "\"\"\"\n",
    "the first 128 Unicode characters point to ASCII characters. \n",
    "And since UTF-8 encodes each of those characters using 1-byte.\n",
    "ASCII is essentially just UTF-8, or we can say that ASCII is a subset of Unicode\n",
    "\"\"\""
   ]
  },
  {
   "cell_type": "code",
   "execution_count": 8,
   "id": "32b1a7e2",
   "metadata": {},
   "outputs": [
    {
     "data": {
      "text/plain": [
       "'\\nPython strings are \"immutable\" which means they cannot be changed after they are created.\\nSince strings can\\'t be changed, we construct new strings as we go to represent computed values.\\n'"
      ]
     },
     "execution_count": 8,
     "metadata": {},
     "output_type": "execute_result"
    }
   ],
   "source": [
    "#Q8\n",
    "\"\"\"\n",
    "Python strings are \"immutable\" which means they cannot be changed after they are created.\n",
    "Since strings can't be changed, we construct new strings as we go to represent computed values.\n",
    "\"\"\""
   ]
  },
  {
   "cell_type": "code",
   "execution_count": null,
   "id": "59a05819",
   "metadata": {},
   "outputs": [],
   "source": []
  }
 ],
 "metadata": {
  "kernelspec": {
   "display_name": "Python 3 (ipykernel)",
   "language": "python",
   "name": "python3"
  },
  "language_info": {
   "codemirror_mode": {
    "name": "ipython",
    "version": 3
   },
   "file_extension": ".py",
   "mimetype": "text/x-python",
   "name": "python",
   "nbconvert_exporter": "python",
   "pygments_lexer": "ipython3",
   "version": "3.10.9"
  }
 },
 "nbformat": 4,
 "nbformat_minor": 5
}
