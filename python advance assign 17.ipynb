{
 "cells": [
  {
   "cell_type": "code",
   "execution_count": 1,
   "id": "b6d7e2af",
   "metadata": {},
   "outputs": [
    {
     "data": {
      "text/plain": [
       "\"\\nThe greedy match will try to match as many repetitions of the quantified pattern as possible. \\nThe non-greedy match will try to match as few repetitions of the quantified pattern as possible.\\n\\nTo make the quantifier non-greedy you simply follow it with a '?' the first 3 characters and \\nthen the following 'ab' is matched. greedy by appending a '?' symbol to them: *?, +?, ??, {n,m}?, and {n,}?.\\n\\n\""
      ]
     },
     "execution_count": 1,
     "metadata": {},
     "output_type": "execute_result"
    }
   ],
   "source": [
    "#Q1\n",
    "\"\"\"\n",
    "The greedy match will try to match as many repetitions of the quantified pattern as possible. \n",
    "The non-greedy match will try to match as few repetitions of the quantified pattern as possible.\n",
    "\n",
    "To make the quantifier non-greedy you simply follow it with a '?' the first 3 characters and \n",
    "then the following 'ab' is matched. greedy by appending a '?' symbol to them: *?, +?, ??, {n,m}?, and {n,}?.\n",
    "\n",
    "\"\"\""
   ]
  },
  {
   "cell_type": "code",
   "execution_count": 2,
   "id": "7998788a",
   "metadata": {},
   "outputs": [
    {
     "data": {
      "text/plain": [
       "\"\\nthe greedy quantifiers will match their preceding elements as much as possible to return to the biggest match possible.\\nthe non-greedy quantifiers will match as little as possible to return the smallest match possible.\\n\\nIt becomes important if you are trying to match certain parts of an expression.\\nSometimes you don't want to match everything - as little as possible\\n\""
      ]
     },
     "execution_count": 2,
     "metadata": {},
     "output_type": "execute_result"
    }
   ],
   "source": [
    "#Q2\n",
    "\"\"\"\n",
    "the greedy quantifiers will match their preceding elements as much as possible to return to the biggest match possible.\n",
    "the non-greedy quantifiers will match as little as possible to return the smallest match possible.\n",
    "\n",
    "It becomes important if you are trying to match certain parts of an expression.\n",
    "Sometimes you don't want to match everything - as little as possible\n",
    "\"\"\""
   ]
  },
  {
   "cell_type": "code",
   "execution_count": 3,
   "id": "00f673d9",
   "metadata": {},
   "outputs": [
    {
     "data": {
      "text/plain": [
       "'\\nA wildcard pattern is a series of characters that are matched against incoming character strings. \\nYou can use these patterns when you define pattern matching criteria. Matching is done strictly from left to right, one character or basic wildcard pattern at a time.\\n'"
      ]
     },
     "execution_count": 3,
     "metadata": {},
     "output_type": "execute_result"
    }
   ],
   "source": [
    "#Q3\n",
    "\"\"\"\n",
    "A wildcard pattern is a series of characters that are matched against incoming character strings. \n",
    "You can use these patterns when you define pattern matching criteria. Matching is done strictly from left to right, one character or basic wildcard pattern at a time.\n",
    "\"\"\""
   ]
  },
  {
   "cell_type": "code",
   "execution_count": 4,
   "id": "bfc98811",
   "metadata": {},
   "outputs": [
    {
     "data": {
      "text/plain": [
       "'\\nInteraction Effects in Statistics\\n'"
      ]
     },
     "execution_count": 4,
     "metadata": {},
     "output_type": "execute_result"
    }
   ],
   "source": [
    "#Q4\n",
    "\"\"\"\n",
    "Interaction Effects in Statistics\n",
    "\"\"\""
   ]
  },
  {
   "cell_type": "code",
   "execution_count": 5,
   "id": "5b38261f",
   "metadata": {},
   "outputs": [
    {
     "data": {
      "text/plain": [
       "\"\\nLookahead is used as an assertion in Python regular expressions to determine success or failure whether the pattern is ahead\\ni.e to the right of the parser's current position. \\nLookahead Example: Simple Password Validation\\n\""
      ]
     },
     "execution_count": 5,
     "metadata": {},
     "output_type": "execute_result"
    }
   ],
   "source": [
    "#Q5\n",
    "\"\"\"\n",
    "Lookahead is used as an assertion in Python regular expressions to determine success or failure whether the pattern is ahead\n",
    "i.e to the right of the parser's current position. \n",
    "Lookahead Example: Simple Password Validation\n",
    "\"\"\""
   ]
  },
  {
   "cell_type": "code",
   "execution_count": 6,
   "id": "fc607ea3",
   "metadata": {},
   "outputs": [
    {
     "data": {
      "text/plain": [
       "'\\nPositive lookahead : \\nIn this type the regex engine searches for a particular element which may be a character or characters or a group after the item matched.\\n\\nNegative loohahead :\\nA negative look-ahead, on the other hand, is when you want to find an expression A that does not have an expression B (i.e., the pattern) after it. \\nIts syntax is: A(?!B) . In a way, it is the opposite of a positive look-ahead.\\n'"
      ]
     },
     "execution_count": 6,
     "metadata": {},
     "output_type": "execute_result"
    }
   ],
   "source": [
    "#Q6\n",
    "\"\"\"\n",
    "Positive lookahead : \n",
    "In this type the regex engine searches for a particular element which may be a character or characters or a group after the item matched.\n",
    "\n",
    "Negative loohahead :\n",
    "A negative look-ahead, on the other hand, is when you want to find an expression A that does not have an expression B (i.e., the pattern) after it. \n",
    "Its syntax is: A(?!B) . In a way, it is the opposite of a positive look-ahead.\n",
    "\"\"\""
   ]
  },
  {
   "cell_type": "code",
   "execution_count": 7,
   "id": "00041a36",
   "metadata": {},
   "outputs": [
    {
     "data": {
      "text/plain": [
       "'\\nThe advantage to named groups is that it adds readability and understandability to the code,\\nso that you can easily see what part of a regular expression match is being referenced.\\n'"
      ]
     },
     "execution_count": 7,
     "metadata": {},
     "output_type": "execute_result"
    }
   ],
   "source": [
    "#Q7\n",
    "\"\"\"\n",
    "The advantage to named groups is that it adds readability and understandability to the code,\n",
    "so that you can easily see what part of a regular expression match is being referenced.\n",
    "\"\"\""
   ]
  },
  {
   "cell_type": "code",
   "execution_count": 8,
   "id": "aa56e78c",
   "metadata": {},
   "outputs": [
    {
     "data": {
      "text/plain": [
       "\"\\nThere's two different regex features that would be helpful. First off, you can use capturing groups. If you put something in parentheses, you can refer to whatever matched inside.\\nso Will match any character followed by that same character. You can also refer to groups in the replacement part of a substitute command.\\n\""
      ]
     },
     "execution_count": 8,
     "metadata": {},
     "output_type": "execute_result"
    }
   ],
   "source": [
    "#Q8\n",
    "\"\"\"\n",
    "There's two different regex features that would be helpful. First off, you can use capturing groups. If you put something in parentheses, you can refer to whatever matched inside.\n",
    "so Will match any character followed by that same character. You can also refer to groups in the replacement part of a substitute command.\n",
    "\"\"\""
   ]
  },
  {
   "cell_type": "code",
   "execution_count": null,
   "id": "7cd41b9f",
   "metadata": {},
   "outputs": [],
   "source": []
  }
 ],
 "metadata": {
  "kernelspec": {
   "display_name": "Python 3 (ipykernel)",
   "language": "python",
   "name": "python3"
  },
  "language_info": {
   "codemirror_mode": {
    "name": "ipython",
    "version": 3
   },
   "file_extension": ".py",
   "mimetype": "text/x-python",
   "name": "python",
   "nbconvert_exporter": "python",
   "pygments_lexer": "ipython3",
   "version": "3.10.9"
  }
 },
 "nbformat": 4,
 "nbformat_minor": 5
}
