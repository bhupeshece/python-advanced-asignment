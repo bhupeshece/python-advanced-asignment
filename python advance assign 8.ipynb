{
 "cells": [
  {
   "cell_type": "code",
   "execution_count": 1,
   "id": "65af3878",
   "metadata": {},
   "outputs": [
    {
     "data": {
      "text/plain": [
       "'IndexError, ImportError, IOError'"
      ]
     },
     "execution_count": 1,
     "metadata": {},
     "output_type": "execute_result"
    }
   ],
   "source": [
    "#Q1\n",
    "'''IndexError, ImportError, IOError'''"
   ]
  },
  {
   "cell_type": "code",
   "execution_count": 3,
   "id": "f52335f1",
   "metadata": {},
   "outputs": [
    {
     "data": {
      "text/plain": [
       "'class-based exceptions are defined by exception class\\n A class-based exception can either cancel the current context or allow for a resume\\n within a processing block class-based exceptions can be handled and evaluate the return values of function modules and methods using classic exceptions'"
      ]
     },
     "execution_count": 3,
     "metadata": {},
     "output_type": "execute_result"
    }
   ],
   "source": [
    "'class-based exceptions are defined by exception class\\n A class-based exception can either cancel the current context or allow for a resume\\n within a processing block class-based exceptions can be handled and evaluate the return values of function modules and methods using classic exceptions'"
   ]
  },
  {
   "cell_type": "code",
   "execution_count": 4,
   "id": "551a7eb1",
   "metadata": {},
   "outputs": [
    {
     "data": {
      "text/plain": [
       "'Exception Chaining and Embedded Tracebacks'"
      ]
     },
     "execution_count": 4,
     "metadata": {},
     "output_type": "execute_result"
    }
   ],
   "source": [
    "\n",
    "#Q3\n",
    "'''Exception Chaining and Embedded Tracebacks'''"
   ]
  },
  {
   "cell_type": "code",
   "execution_count": 5,
   "id": "bb7571d9",
   "metadata": {},
   "outputs": [
    {
     "data": {
      "text/plain": [
       "'syntax error: invalid syntax\\nZeroDivisionError: division by zero\\nTypeError: can only concatenate str (not \"int\") to str'"
      ]
     },
     "execution_count": 5,
     "metadata": {},
     "output_type": "execute_result"
    }
   ],
   "source": [
    "#Q4\n",
    "'''syntax error: invalid syntax\n",
    "ZeroDivisionError: division by zero\n",
    "TypeError: can only concatenate str (not \"int\") to str'''"
   ]
  },
  {
   "cell_type": "code",
   "execution_count": 6,
   "id": "6facd32b",
   "metadata": {},
   "outputs": [
    {
     "data": {
      "text/plain": [
       "'since classes have many nice properties when used as exceptions\\nstring-based exceptions are no longer used because standard Exception classes are used instead of string-based exceptions'"
      ]
     },
     "execution_count": 6,
     "metadata": {},
     "output_type": "execute_result"
    }
   ],
   "source": [
    "#Q5\n",
    "'''since classes have many nice properties when used as exceptions\n",
    "string-based exceptions are no longer used because standard Exception classes are used instead of string-based exceptions'''"
   ]
  },
  {
   "cell_type": "code",
   "execution_count": null,
   "id": "2d5d3a6e",
   "metadata": {},
   "outputs": [],
   "source": []
  }
 ],
 "metadata": {
  "kernelspec": {
   "display_name": "Python 3 (ipykernel)",
   "language": "python",
   "name": "python3"
  },
  "language_info": {
   "codemirror_mode": {
    "name": "ipython",
    "version": 3
   },
   "file_extension": ".py",
   "mimetype": "text/x-python",
   "name": "python",
   "nbconvert_exporter": "python",
   "pygments_lexer": "ipython3",
   "version": "3.10.9"
  }
 },
 "nbformat": 4,
 "nbformat_minor": 5
}
