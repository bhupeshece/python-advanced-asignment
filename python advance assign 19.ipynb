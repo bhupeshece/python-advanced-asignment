{
 "cells": [
  {
   "cell_type": "code",
   "execution_count": 14,
   "id": "08582c2a",
   "metadata": {},
   "outputs": [
    {
     "data": {
      "text/plain": [
       "'\\nA class is a blueprint which you use to create objects. An object is an instance of a class\\nentity can be one-to-one and one-to-many partnership\\n'"
      ]
     },
     "execution_count": 14,
     "metadata": {},
     "output_type": "execute_result"
    }
   ],
   "source": [
    "#Q1\n",
    "\"\"\"\n",
    "A class is a blueprint which you use to create objects. An object is an instance of a class\n",
    "entity can be one-to-one and one-to-many partnership\n",
    "\"\"\""
   ]
  },
  {
   "cell_type": "code",
   "execution_count": 2,
   "id": "abbb926c",
   "metadata": {},
   "outputs": [
    {
     "data": {
      "text/plain": [
       "'\\nInstance data is defined in the data division in the object paragraph of a class definition and is processed by procedural code in the instance methods of that class.\\nInstance data is organized into logical records and independent data description entries in the same manner as program data\\n'"
      ]
     },
     "execution_count": 2,
     "metadata": {},
     "output_type": "execute_result"
    }
   ],
   "source": [
    "#Q2\n",
    "\"\"\"\n",
    "Instance data is defined in the data division in the object paragraph of a class definition and is processed by procedural code in the instance methods of that class.\n",
    "Instance data is organized into logical records and independent data description entries in the same manner as program data\n",
    "\"\"\""
   ]
  },
  {
   "cell_type": "code",
   "execution_count": 4,
   "id": "16d2b265",
   "metadata": {},
   "outputs": [
    {
     "data": {
      "text/plain": [
       "'\\nClasses provide a means of bundling data and functionality together. \\nCreating a new class creates a new type of object\\nPython classes provide all the standard features of Object Oriented Programming\\n'"
      ]
     },
     "execution_count": 4,
     "metadata": {},
     "output_type": "execute_result"
    }
   ],
   "source": [
    "#Q3\n",
    "\"\"\"\n",
    "Classes provide a means of bundling data and functionality together. \n",
    "Creating a new class creates a new type of object\n",
    "Python classes provide all the standard features of Object Oriented Programming\n",
    "\"\"\""
   ]
  },
  {
   "cell_type": "code",
   "execution_count": 5,
   "id": "94cbca17",
   "metadata": {},
   "outputs": [
    {
     "data": {
      "text/plain": [
       "'\\nA function is a piece of code that is called by name. It can be passed data to operate on and can optionally return data\\nA method is a piece of code that is called by a name that is associated with an object.\\n'"
      ]
     },
     "execution_count": 5,
     "metadata": {},
     "output_type": "execute_result"
    }
   ],
   "source": [
    "#Q4\n",
    "\"\"\"\n",
    "A function is a piece of code that is called by name. It can be passed data to operate on and can optionally return data\n",
    "A method is a piece of code that is called by a name that is associated with an object.\n",
    "\"\"\""
   ]
  },
  {
   "cell_type": "code",
   "execution_count": 6,
   "id": "75a0f6e3",
   "metadata": {},
   "outputs": [
    {
     "data": {
      "text/plain": [
       "'\\nAn object-oriented programming language like Python, not only supports inheritance but multiple inheritance as well.\\nThe mechanism of inheritance allows programmers to create a new class from a pre-existing class, which supports code reusability.\\nsyntax : Use the super() Function\\n'"
      ]
     },
     "execution_count": 6,
     "metadata": {},
     "output_type": "execute_result"
    }
   ],
   "source": [
    "#Q5\n",
    "\"\"\"\n",
    "An object-oriented programming language like Python, not only supports inheritance but multiple inheritance as well.\n",
    "The mechanism of inheritance allows programmers to create a new class from a pre-existing class, which supports code reusability.\n",
    "syntax : Use the super() Function\n",
    "\"\"\""
   ]
  },
  {
   "cell_type": "code",
   "execution_count": 7,
   "id": "cbf4b523",
   "metadata": {},
   "outputs": [
    {
     "data": {
      "text/plain": [
       "\"\\nIn Python, Encapsulation can be achieved by declaring the data members of a class either as private or protected. \\nIn Python, 'Private' and 'Protected' are called Access Modifiers, as they modify the access of variables or methods defined in a class.\\n\""
      ]
     },
     "execution_count": 7,
     "metadata": {},
     "output_type": "execute_result"
    }
   ],
   "source": [
    "#Q6\n",
    "\"\"\"\n",
    "In Python, Encapsulation can be achieved by declaring the data members of a class either as private or protected. \n",
    "In Python, 'Private' and 'Protected' are called Access Modifiers, as they modify the access of variables or methods defined in a class.\n",
    "\"\"\""
   ]
  },
  {
   "cell_type": "code",
   "execution_count": 8,
   "id": "7488f356",
   "metadata": {},
   "outputs": [
    {
     "data": {
      "text/plain": [
       "\"\\nClass variables also known as static variables are declared with the static keyword in a class, but outside a method, constructor or a block.\\nInstance variables are created when an object is created with the use of the keyword 'new' and destroyed when the object is destroyed\\n\""
      ]
     },
     "execution_count": 8,
     "metadata": {},
     "output_type": "execute_result"
    }
   ],
   "source": [
    "#Q7\n",
    "\"\"\"\n",
    "Class variables also known as static variables are declared with the static keyword in a class, but outside a method, constructor or a block.\n",
    "Instance variables are created when an object is created with the use of the keyword 'new' and destroyed when the object is destroyed\n",
    "\"\"\""
   ]
  },
  {
   "cell_type": "code",
   "execution_count": 9,
   "id": "8c2de38d",
   "metadata": {},
   "outputs": [
    {
     "data": {
      "text/plain": [
       "'\\nself represents the instance of the class. By using the “self” we can access the attributes and methods of the class in python.\\nIt binds the attributes with the given arguments. The reason you need to use self. is because Python does not use the @ syntax to refer to instance attributes\\n'"
      ]
     },
     "execution_count": 9,
     "metadata": {},
     "output_type": "execute_result"
    }
   ],
   "source": [
    "#Q8\n",
    "\"\"\"\n",
    "self represents the instance of the class. By using the “self” we can access the attributes and methods of the class in python.\n",
    "It binds the attributes with the given arguments. The reason you need to use self. is because Python does not use the @ syntax to refer to instance attributes\n",
    "\"\"\""
   ]
  },
  {
   "cell_type": "code",
   "execution_count": 10,
   "id": "cc79e2b4",
   "metadata": {},
   "outputs": [
    {
     "data": {
      "text/plain": [
       "'\\nThe __add__ method is used to implement addition operation. In Python, numbers are not primitive literals but objects.\\nThe Python __radd__() method implements the reverse addition operation that is addition with reflected, swapped operands\\n'"
      ]
     },
     "execution_count": 10,
     "metadata": {},
     "output_type": "execute_result"
    }
   ],
   "source": [
    "#Q9\n",
    "\"\"\"\n",
    "The __add__ method is used to implement addition operation. In Python, numbers are not primitive literals but objects.\n",
    "The Python __radd__() method implements the reverse addition operation that is addition with reflected, swapped operands\n",
    "\"\"\""
   ]
  },
  {
   "cell_type": "code",
   "execution_count": 11,
   "id": "5efd8741",
   "metadata": {},
   "outputs": [
    {
     "data": {
      "text/plain": [
       "'\\nReflection is powerful, but should not be used indiscriminately. \\nIf it is possible to perform an operation without using reflection, then it is preferable to avoid using it.\\n'"
      ]
     },
     "execution_count": 11,
     "metadata": {},
     "output_type": "execute_result"
    }
   ],
   "source": [
    "#Q10\n",
    "\"\"\"\n",
    "Reflection is powerful, but should not be used indiscriminately. \n",
    "If it is possible to perform an operation without using reflection, then it is preferable to avoid using it.\n",
    "\"\"\""
   ]
  },
  {
   "cell_type": "code",
   "execution_count": 12,
   "id": "d659a54e",
   "metadata": {},
   "outputs": [
    {
     "data": {
      "text/plain": [
       "'\\nThe Python __iadd__() magic method implements in-place addition x += y that adds together the operands and assigns the result to the left operand. \\nThis operation is also called augmented arithmetic assignment.\\n'"
      ]
     },
     "execution_count": 12,
     "metadata": {},
     "output_type": "execute_result"
    }
   ],
   "source": [
    "#Q11\n",
    "\"\"\"\n",
    "The Python __iadd__() magic method implements in-place addition x += y that adds together the operands and assigns the result to the left operand. \n",
    "This operation is also called augmented arithmetic assignment.\n",
    "\"\"\""
   ]
  },
  {
   "cell_type": "code",
   "execution_count": 13,
   "id": "1b2dc9d2",
   "metadata": {},
   "outputs": [
    {
     "data": {
      "text/plain": [
       "\"\\nNo it isn't necessary. It is necessary when you want the parent's logic to run as well.\\nThere is no requirement in the language that subclass need to call __init__ of superclass\\n\""
      ]
     },
     "execution_count": 13,
     "metadata": {},
     "output_type": "execute_result"
    }
   ],
   "source": [
    "#Q12\n",
    "\"\"\"\n",
    "No it isn't necessary. It is necessary when you want the parent's logic to run as well.\n",
    "There is no requirement in the language that subclass need to call __init__ of superclass\n",
    "\"\"\""
   ]
  },
  {
   "cell_type": "code",
   "execution_count": null,
   "id": "4c904e3a",
   "metadata": {},
   "outputs": [],
   "source": []
  }
 ],
 "metadata": {
  "kernelspec": {
   "display_name": "Python 3 (ipykernel)",
   "language": "python",
   "name": "python3"
  },
  "language_info": {
   "codemirror_mode": {
    "name": "ipython",
    "version": 3
   },
   "file_extension": ".py",
   "mimetype": "text/x-python",
   "name": "python",
   "nbconvert_exporter": "python",
   "pygments_lexer": "ipython3",
   "version": "3.10.9"
  }
 },
 "nbformat": 4,
 "nbformat_minor": 5
}
