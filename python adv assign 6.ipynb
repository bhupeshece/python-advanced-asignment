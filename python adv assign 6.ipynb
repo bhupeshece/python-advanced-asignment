{
 "cells": [
  {
   "cell_type": "code",
   "execution_count": 1,
   "id": "20a41cc1",
   "metadata": {},
   "outputs": [
    {
     "data": {
      "text/plain": [
       "'the checked exception,the error and the runtime exception\\nZeroDivisionError,NameError,IndentationError,IoError'"
      ]
     },
     "execution_count": 1,
     "metadata": {},
     "output_type": "execute_result"
    }
   ],
   "source": [
    "#Q1\n",
    "'''the checked exception,the error and the runtime exception\n",
    "ZeroDivisionError,NameError,IndentationError,IoError'''"
   ]
  },
  {
   "cell_type": "code",
   "execution_count": 2,
   "id": "53d044c5",
   "metadata": {},
   "outputs": [
    {
     "data": {
      "text/plain": [
       "'the program terminates and the code past the line that caused the exception will not get executed'"
      ]
     },
     "execution_count": 2,
     "metadata": {},
     "output_type": "execute_result"
    }
   ],
   "source": [
    "#Q2\n",
    "'''the program terminates and the code past the line that caused the exception will not get executed'''"
   ]
  },
  {
   "cell_type": "code",
   "execution_count": 3,
   "id": "2c1a002f",
   "metadata": {},
   "outputs": [
    {
     "data": {
      "text/plain": [
       "'first we can use try clause\\nthan we can provide except clause which handles any exception \\nafter exception, we can include else clause'"
      ]
     },
     "execution_count": 3,
     "metadata": {},
     "output_type": "execute_result"
    }
   ],
   "source": [
    "#Q3\n",
    "'''first we can use try clause\n",
    "than we can provide except clause which handles any exception \n",
    "after exception, we can include else clause'''"
   ]
  },
  {
   "cell_type": "code",
   "execution_count": 4,
   "id": "2f66d4be",
   "metadata": {},
   "outputs": [
    {
     "data": {
      "text/plain": [
       "'syntax errors\\nlogical errors'"
      ]
     },
     "execution_count": 4,
     "metadata": {},
     "output_type": "execute_result"
    }
   ],
   "source": [
    "#Q4\n",
    "'''syntax errors\n",
    "logical errors'''"
   ]
  },
  {
   "cell_type": "code",
   "execution_count": 5,
   "id": "8d703c4e",
   "metadata": {},
   "outputs": [
    {
     "data": {
      "text/plain": [
       "'else clause and \\nfinally clause'"
      ]
     },
     "execution_count": 5,
     "metadata": {},
     "output_type": "execute_result"
    }
   ],
   "source": [
    "#Q5\n",
    "'''else clause and \n",
    "finally clause'''"
   ]
  },
  {
   "cell_type": "code",
   "execution_count": null,
   "id": "3cf5e024",
   "metadata": {},
   "outputs": [],
   "source": []
  }
 ],
 "metadata": {
  "kernelspec": {
   "display_name": "Python 3 (ipykernel)",
   "language": "python",
   "name": "python3"
  },
  "language_info": {
   "codemirror_mode": {
    "name": "ipython",
    "version": 3
   },
   "file_extension": ".py",
   "mimetype": "text/x-python",
   "name": "python",
   "nbconvert_exporter": "python",
   "pygments_lexer": "ipython3",
   "version": "3.10.9"
  }
 },
 "nbformat": 4,
 "nbformat_minor": 5
}
