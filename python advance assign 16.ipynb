{
 "cells": [
  {
   "cell_type": "code",
   "execution_count": 1,
   "id": "619c0c24",
   "metadata": {},
   "outputs": [
    {
     "data": {
      "text/plain": [
       "'\\nRegular expressions are useful in search and replace operations. \\nThe typical use case is to look for a sub-string that matches a pattern and replace it with something else.\\n'"
      ]
     },
     "execution_count": 1,
     "metadata": {},
     "output_type": "execute_result"
    }
   ],
   "source": [
    "#Q1\n",
    "\"\"\"\n",
    "Regular expressions are useful in search and replace operations. \n",
    "The typical use case is to look for a sub-string that matches a pattern and replace it with something else.\n",
    "\"\"\""
   ]
  },
  {
   "cell_type": "code",
   "execution_count": 2,
   "id": "0efb91e0",
   "metadata": {},
   "outputs": [
    {
     "data": {
      "text/plain": [
       "'\\nThe difference is in the operator precedence (order of operations) in both expressions. The result of the expression is evaluated on the basis of the different order.\\n'"
      ]
     },
     "execution_count": 2,
     "metadata": {},
     "output_type": "execute_result"
    }
   ],
   "source": [
    "#Q2\n",
    "\"\"\"\n",
    "The difference is in the operator precedence (order of operations) in both expressions. The result of the expression is evaluated on the basis of the different order.\n",
    "\"\"\""
   ]
  },
  {
   "cell_type": "code",
   "execution_count": 3,
   "id": "eed719e1",
   "metadata": {},
   "outputs": [
    {
     "data": {
      "text/plain": [
       "'\\nThere are several codes defining that a character or sequence of characters which is found before this code has to be repeated several times.\\n\\nThe \"*\" allows any number of repeated characters (or sequences).\\nExample: \"ABC*\" will accept any string with \"AB\" and any number of Cs (0 to unlimited).\\n\\nThe \"+ is similar to \"*\", but requires at least one character (or sequence).\\nExample: \"ABC+\" will accept any string with \"ABC\" and any number of Cs after that.\\n\\nThe \"?\" code means zero or one occurrence of the last character (or sequence).\\nExample \"ABC?\" will accept “AB” or \"ABC\".\\n'"
      ]
     },
     "execution_count": 3,
     "metadata": {},
     "output_type": "execute_result"
    }
   ],
   "source": [
    "#Q3\n",
    "\"\"\"\n",
    "There are several codes defining that a character or sequence of characters which is found before this code has to be repeated several times.\n",
    "\n",
    "The \"*\" allows any number of repeated characters (or sequences).\n",
    "Example: \"ABC*\" will accept any string with \"AB\" and any number of Cs (0 to unlimited).\n",
    "\n",
    "The \"+ is similar to \"*\", but requires at least one character (or sequence).\n",
    "Example: \"ABC+\" will accept any string with \"ABC\" and any number of Cs after that.\n",
    "\n",
    "The \"?\" code means zero or one occurrence of the last character (or sequence).\n",
    "Example \"ABC?\" will accept “AB” or \"ABC\".\n",
    "\"\"\""
   ]
  },
  {
   "cell_type": "code",
   "execution_count": 4,
   "id": "7dd289eb",
   "metadata": {},
   "outputs": [
    {
     "data": {
      "text/plain": [
       "'\\nIn square brackets we can use the vast majority of special characters without escaping: Symbols . + ( ) never need escaping.\\n'"
      ]
     },
     "execution_count": 4,
     "metadata": {},
     "output_type": "execute_result"
    }
   ],
   "source": [
    "#Q4\n",
    "\"\"\"\n",
    "In square brackets we can use the vast majority of special characters without escaping: Symbols . + ( ) never need escaping.\n",
    "\"\"\""
   ]
  },
  {
   "cell_type": "code",
   "execution_count": 5,
   "id": "c0d51f14",
   "metadata": {},
   "outputs": [
    {
     "data": {
      "text/plain": [
       "'\\nWe can combine a regular expression pattern into pattern objects, which can be used for pattern matching.\\nIt also helps to search a pattern again without rewriting it\\n'"
      ]
     },
     "execution_count": 5,
     "metadata": {},
     "output_type": "execute_result"
    }
   ],
   "source": [
    "#Q5\n",
    "\"\"\"\n",
    "We can combine a regular expression pattern into pattern objects, which can be used for pattern matching.\n",
    "It also helps to search a pattern again without rewriting it\n",
    "\"\"\""
   ]
  },
  {
   "cell_type": "code",
   "execution_count": 6,
   "id": "b66aa3b2",
   "metadata": {},
   "outputs": [
    {
     "data": {
      "text/plain": [
       "'\\nre.search() scans through the whole string.\\nre.match() scans only the beginning of the string.\\n'"
      ]
     },
     "execution_count": 6,
     "metadata": {},
     "output_type": "execute_result"
    }
   ],
   "source": [
    "#Q6\n",
    "\"\"\"\n",
    "re.search() scans through the whole string.\n",
    "re.match() scans only the beginning of the string.\n",
    "\"\"\""
   ]
  },
  {
   "cell_type": "code",
   "execution_count": 7,
   "id": "03e32768",
   "metadata": {},
   "outputs": [
    {
     "name": "stdout",
     "output_type": "stream",
     "text": [
      "<re.Match object; span=(8, 14), match='python'>\n"
     ]
    }
   ],
   "source": [
    "#Q6\n",
    "#example of re.search\n",
    "import re\n",
    "txt = \"This is python advance assignment 16\"\n",
    "result = re.search(\"python\",txt)\n",
    "print(result)"
   ]
  },
  {
   "cell_type": "code",
   "execution_count": 8,
   "id": "0a862000",
   "metadata": {},
   "outputs": [
    {
     "name": "stdout",
     "output_type": "stream",
     "text": [
      "<re.Match object; span=(0, 4), match='This'>\n"
     ]
    }
   ],
   "source": [
    "#Q6\n",
    "#Example of re.match\n",
    "txt = \"This is python advance assignment 16\"\n",
    "result2 = re.match('This',txt)\n",
    "print(result2)"
   ]
  },
  {
   "cell_type": "code",
   "execution_count": 9,
   "id": "0d702c0e",
   "metadata": {},
   "outputs": [
    {
     "data": {
      "text/plain": [
       "'\\n[] denotes a character class. () denotes a capturing group. [a-z0-9]\\nOne character that is in the range of a-z OR 0-9.\\n'"
      ]
     },
     "execution_count": 9,
     "metadata": {},
     "output_type": "execute_result"
    }
   ],
   "source": [
    "#Q7\n",
    "\"\"\"\n",
    "[] denotes a character class. () denotes a capturing group. [a-z0-9]\n",
    "One character that is in the range of a-z OR 0-9.\n",
    "\"\"\""
   ]
  },
  {
   "cell_type": "code",
   "execution_count": 10,
   "id": "0cd2e5ce",
   "metadata": {},
   "outputs": [
    {
     "data": {
      "text/plain": [
       "'\\nBecause regular expressions are frequently static strings, which are conveniently represented as string literals.\\nAnd from the different string literal notations available, raw strings are a convenient choice, when the regular expression includes a backslash characte\\n'"
      ]
     },
     "execution_count": 10,
     "metadata": {},
     "output_type": "execute_result"
    }
   ],
   "source": [
    "#Q8\n",
    "\"\"\"\n",
    "Because regular expressions are frequently static strings, which are conveniently represented as string literals.\n",
    "And from the different string literal notations available, raw strings are a convenient choice, when the regular expression includes a backslash characte\n",
    "\"\"\""
   ]
  },
  {
   "cell_type": "code",
   "execution_count": null,
   "id": "6943dd97",
   "metadata": {},
   "outputs": [],
   "source": []
  }
 ],
 "metadata": {
  "kernelspec": {
   "display_name": "Python 3 (ipykernel)",
   "language": "python",
   "name": "python3"
  },
  "language_info": {
   "codemirror_mode": {
    "name": "ipython",
    "version": 3
   },
   "file_extension": ".py",
   "mimetype": "text/x-python",
   "name": "python",
   "nbconvert_exporter": "python",
   "pygments_lexer": "ipython3",
   "version": "3.10.9"
  }
 },
 "nbformat": 4,
 "nbformat_minor": 5
}
