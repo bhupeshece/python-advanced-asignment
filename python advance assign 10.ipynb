{
 "cells": [
  {
   "cell_type": "code",
   "execution_count": 1,
   "id": "541ed9e6",
   "metadata": {},
   "outputs": [
    {
     "data": {
      "text/plain": [
       "'__getattr_ is executed as last resources when attribute is not found in an object \\n__getattribute__ is used to retrive an attribute from an instance'"
      ]
     },
     "execution_count": 1,
     "metadata": {},
     "output_type": "execute_result"
    }
   ],
   "source": [
    "#Q1\n",
    "'''__getattr_ is executed as last resources when attribute is not found in an object \n",
    "__getattribute__ is used to retrive an attribute from an instance'''"
   ]
  },
  {
   "cell_type": "code",
   "execution_count": 2,
   "id": "10c2ce0e",
   "metadata": {},
   "outputs": [
    {
     "data": {
      "text/plain": [
       "\"descriptors lets you hook into an object's attributes being accessed and it is low level mechanism\\nProperties are a high-level application of descriptors, properties are implemented using descriptors\""
      ]
     },
     "execution_count": 2,
     "metadata": {},
     "output_type": "execute_result"
    }
   ],
   "source": [
    "#Q2\n",
    "'''descriptors lets you hook into an object's attributes being accessed and it is low level mechanism\n",
    "Properties are a high-level application of descriptors, properties are implemented using descriptors'''"
   ]
  },
  {
   "cell_type": "code",
   "execution_count": 3,
   "id": "bf14b88d",
   "metadata": {},
   "outputs": [
    {
     "data": {
      "text/plain": [
       "\"A key difference between __getattr__ and __getattribute__ is that __getattr__ is only invoked if the attribute wasn't found the usual ways\\n __getattr__ is called for attributes that don't actually exist on a class\\n \\n properties are the descriptors that are already provided for the user in the standard library\""
      ]
     },
     "execution_count": 3,
     "metadata": {},
     "output_type": "execute_result"
    }
   ],
   "source": [
    "\n",
    "#Q3\n",
    "'''A key difference between __getattr__ and __getattribute__ is that __getattr__ is only invoked if the attribute wasn't found the usual ways\n",
    " __getattr__ is called for attributes that don't actually exist on a class\n",
    " \n",
    " properties are the descriptors that are already provided for the user in the standard library'''"
   ]
  },
  {
   "cell_type": "code",
   "execution_count": null,
   "id": "480b2326",
   "metadata": {},
   "outputs": [],
   "source": []
  }
 ],
 "metadata": {
  "kernelspec": {
   "display_name": "Python 3 (ipykernel)",
   "language": "python",
   "name": "python3"
  },
  "language_info": {
   "codemirror_mode": {
    "name": "ipython",
    "version": 3
   },
   "file_extension": ".py",
   "mimetype": "text/x-python",
   "name": "python",
   "nbconvert_exporter": "python",
   "pygments_lexer": "ipython3",
   "version": "3.10.9"
  }
 },
 "nbformat": 4,
 "nbformat_minor": 5
}
