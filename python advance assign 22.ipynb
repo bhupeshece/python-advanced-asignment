{
 "cells": [
  {
   "cell_type": "code",
   "execution_count": 1,
   "id": "ba49c022",
   "metadata": {},
   "outputs": [
    {
     "data": {
      "text/plain": [
       "'\\nMulti-dimensional slicing, broadcasting functionality,\\nprocessing speed, memory footprint\\n'"
      ]
     },
     "execution_count": 1,
     "metadata": {},
     "output_type": "execute_result"
    }
   ],
   "source": [
    "#Q1\n",
    "\"\"\"\n",
    "Multi-dimensional slicing, broadcasting functionality,\n",
    "processing speed, memory footprint\n",
    "\"\"\""
   ]
  },
  {
   "cell_type": "code",
   "execution_count": 2,
   "id": "878a9260",
   "metadata": {},
   "outputs": [
    {
     "data": {
      "text/plain": [
       "'\\n>> An array which is formed will be homogeneous,\\n>> While declaring an array, passing size of an array is compulsory, and the size must be a constant,\\n>> Shifting is required for insertion or deletion of elements in an array.\\n'"
      ]
     },
     "execution_count": 2,
     "metadata": {},
     "output_type": "execute_result"
    }
   ],
   "source": [
    "#Q2\n",
    "\"\"\"\n",
    ">> An array which is formed will be homogeneous,\n",
    ">> While declaring an array, passing size of an array is compulsory, and the size must be a constant,\n",
    ">> Shifting is required for insertion or deletion of elements in an array.\n",
    "\"\"\""
   ]
  },
  {
   "cell_type": "code",
   "execution_count": 3,
   "id": "8ad9477c",
   "metadata": {},
   "outputs": [
    {
     "data": {
      "text/plain": [
       "'\\nA numpy array is a grid of values, all of the same type, and is indexed by a tuple of nonnegative integers.\\nThe number of dimensions is the rank of the array; the shape of an array is a tuple of integers giving the size of the array along each dimension. \\nThe Python core library provided Lists.\\n'"
      ]
     },
     "execution_count": 3,
     "metadata": {},
     "output_type": "execute_result"
    }
   ],
   "source": [
    "#Q3\n",
    "\"\"\"\n",
    "A numpy array is a grid of values, all of the same type, and is indexed by a tuple of nonnegative integers.\n",
    "The number of dimensions is the rank of the array; the shape of an array is a tuple of integers giving the size of the array along each dimension. \n",
    "The Python core library provided Lists.\n",
    "\"\"\""
   ]
  },
  {
   "cell_type": "code",
   "execution_count": 4,
   "id": "b4787d44",
   "metadata": {},
   "outputs": [
    {
     "data": {
      "text/plain": [
       "'\\n>> The numpy module of Python provides a function called numpy.empty(). \\nThis function is used to create an array without initializing the entries of given shape and type.\\n\\n>> zeros() function is used to create an array based on the particular shape and type. \\nAll array elements are initialized to 0, which is created by the zeros() function.\\n\\n>> ones() function works like the zeros() function.\\nBut the elements of the array created by the ones() function are initialized to 1.\\n'"
      ]
     },
     "execution_count": 4,
     "metadata": {},
     "output_type": "execute_result"
    }
   ],
   "source": [
    "#Q4\n",
    "\"\"\"\n",
    ">> The numpy module of Python provides a function called numpy.empty(). \n",
    "This function is used to create an array without initializing the entries of given shape and type.\n",
    "\n",
    ">> zeros() function is used to create an array based on the particular shape and type. \n",
    "All array elements are initialized to 0, which is created by the zeros() function.\n",
    "\n",
    ">> ones() function works like the zeros() function.\n",
    "But the elements of the array created by the ones() function are initialized to 1.\n",
    "\"\"\""
   ]
  },
  {
   "cell_type": "code",
   "execution_count": 5,
   "id": "3f42a271",
   "metadata": {},
   "outputs": [
    {
     "data": {
      "text/plain": [
       "'\\n>> The numpy module of Python provides a function called numpy.empty(). \\nThis function is used to create an array without initializing the entries of given shape and type.\\n\\n>> zeros() function is used to create an array based on the particular shape and type. \\nAll array elements are initialized to 0, which is created by the zeros() function.\\n\\n>> ones() function works like the zeros() function.\\nBut the elements of the array created by the ones() function are initialized to 1.\\n'"
      ]
     },
     "execution_count": 5,
     "metadata": {},
     "output_type": "execute_result"
    }
   ],
   "source": [
    "#Q4\n",
    "\"\"\"\n",
    ">> The numpy module of Python provides a function called numpy.empty(). \n",
    "This function is used to create an array without initializing the entries of given shape and type.\n",
    "\n",
    ">> zeros() function is used to create an array based on the particular shape and type. \n",
    "All array elements are initialized to 0, which is created by the zeros() function.\n",
    "\n",
    ">> ones() function works like the zeros() function.\n",
    "But the elements of the array created by the ones() function are initialized to 1.\n",
    "\"\"\""
   ]
  },
  {
   "cell_type": "code",
   "execution_count": 6,
   "id": "a3d6da10",
   "metadata": {},
   "outputs": [
    {
     "data": {
      "text/plain": [
       "'\\nfromfunction() function construct an array by executing a function over each coordinate and the resulting array, therefore, has a value fn(x, y, z) at coordinate (x, y, z). \\nParameters : function : [callable] The function is called with N parameters, where N is the rank of shape.\\n'"
      ]
     },
     "execution_count": 6,
     "metadata": {},
     "output_type": "execute_result"
    }
   ],
   "source": [
    "#Q5\n",
    "\"\"\"\n",
    "fromfunction() function construct an array by executing a function over each coordinate and the resulting array, therefore, has a value fn(x, y, z) at coordinate (x, y, z). \n",
    "Parameters : function : [callable] The function is called with N parameters, where N is the rank of shape.\n",
    "\"\"\""
   ]
  },
  {
   "cell_type": "code",
   "execution_count": 7,
   "id": "d7fb98a4",
   "metadata": {},
   "outputs": [
    {
     "data": {
      "text/plain": [
       "'\\nYou can add a NumPy array element by using the append() method of the NumPy module.\\nThe values will be appended at the end of the array and a new ndarray will be returned with new and old values\\n'"
      ]
     },
     "execution_count": 7,
     "metadata": {},
     "output_type": "execute_result"
    }
   ],
   "source": [
    "#Q6\n",
    "\"\"\"\n",
    "You can add a NumPy array element by using the append() method of the NumPy module.\n",
    "The values will be appended at the end of the array and a new ndarray will be returned with new and old values\n",
    "\"\"\""
   ]
  },
  {
   "cell_type": "code",
   "execution_count": 8,
   "id": "a65f67fd",
   "metadata": {},
   "outputs": [
    {
     "data": {
      "text/plain": [
       "'\\nArrays are important because they enable you to express batch operations on data without writing any for loops. \\nThis is usually called vectorization. Any arithmetic operations between equal-size arrays applies the operation\\n'"
      ]
     },
     "execution_count": 8,
     "metadata": {},
     "output_type": "execute_result"
    }
   ],
   "source": [
    "#Q7\n",
    "\"\"\"\n",
    "Arrays are important because they enable you to express batch operations on data without writing any for loops. \n",
    "This is usually called vectorization. Any arithmetic operations between equal-size arrays applies the operation\n",
    "\"\"\""
   ]
  },
  {
   "cell_type": "code",
   "execution_count": 9,
   "id": "4f883e61",
   "metadata": {},
   "outputs": [
    {
     "data": {
      "text/plain": [
       "\"\\nNumPy arrays have a fixed size at creation\\nChanging the size of an ndarray will create a new array and delete the original\\nThe elements in a NumPy array are all required to be of the same data type, and thus will be the same size in memory\\n\\n>>f you want to hold 10 strings then you need to allocate memory for 10 char * 's and then allocate memory to those char pointers .\\nEach element will occupy the memory space required to accommodate the values for its type, i.e.; depending on the data type of\\nthe elements, 1, 4, or 8 bytes of memory are allocated for each element. The next memory address is assigned to the next element in the array\\n\""
      ]
     },
     "execution_count": 9,
     "metadata": {},
     "output_type": "execute_result"
    }
   ],
   "source": [
    "#Q8\n",
    "\"\"\"\n",
    "NumPy arrays have a fixed size at creation\n",
    "Changing the size of an ndarray will create a new array and delete the original\n",
    "The elements in a NumPy array are all required to be of the same data type, and thus will be the same size in memory\n",
    "\n",
    ">>f you want to hold 10 strings then you need to allocate memory for 10 char * 's and then allocate memory to those char pointers .\n",
    "Each element will occupy the memory space required to accommodate the values for its type, i.e.; depending on the data type of\n",
    "the elements, 1, 4, or 8 bytes of memory are allocated for each element. The next memory address is assigned to the next element in the array\n",
    "\"\"\""
   ]
  },
  {
   "cell_type": "code",
   "execution_count": 10,
   "id": "d97b0a63",
   "metadata": {},
   "outputs": [
    {
     "data": {
      "text/plain": [
       "'\\nUse numpy.concatenate() to merge the content of two or multiple arrays into a single array\\nThe concat() method returns a new array, containing the joined arrays\\nThe concat() method does not change the existing arrays.\\n\\n>> It needs to have same number of dimensions.\\n'"
      ]
     },
     "execution_count": 10,
     "metadata": {},
     "output_type": "execute_result"
    }
   ],
   "source": [
    "#Q9\n",
    "\"\"\"\n",
    "Use numpy.concatenate() to merge the content of two or multiple arrays into a single array\n",
    "The concat() method returns a new array, containing the joined arrays\n",
    "The concat() method does not change the existing arrays.\n",
    "\n",
    ">> It needs to have same number of dimensions.\n",
    "\"\"\""
   ]
  },
  {
   "cell_type": "code",
   "execution_count": 11,
   "id": "6ea84239",
   "metadata": {},
   "outputs": [
    {
     "data": {
      "text/plain": [
       "'\\nThe boolean array can be used to store boolean datatype values only and the default value of the boolean array is false.\\nAn array of booleans are initialized to false and arrays of reference types are initialized to null.\\n'"
      ]
     },
     "execution_count": 11,
     "metadata": {},
     "output_type": "execute_result"
    }
   ],
   "source": [
    "#Q10\n",
    "\"\"\"\n",
    "The boolean array can be used to store boolean datatype values only and the default value of the boolean array is false.\n",
    "An array of booleans are initialized to false and arrays of reference types are initialized to null.\n",
    "\"\"\""
   ]
  },
  {
   "cell_type": "code",
   "execution_count": 12,
   "id": "6dbb2e0f",
   "metadata": {},
   "outputs": [
    {
     "data": {
      "text/plain": [
       "'\\npopulation standard deviation and sample standard deviation.\\n \\nWork out the Mean (the simple average of the numbers),\\nThen for each number: subtract the Mean and square the result,\\nThen work out the mean of those squared differences,\\nTake the square root of that and we are done.\\n\\nIn statistics, the empirical rule states that 99.7% of data occurs within three standard deviations of the mean within a normal distribution.\\nthe standard deviation = √0.2564 = 0.5064. Fourth, calculate three-sigma, which is three standard deviations above the mean. In numerical format, this is (3 x 0.5064) + 9.34 = 10.9.\\n'"
      ]
     },
     "execution_count": 12,
     "metadata": {},
     "output_type": "execute_result"
    }
   ],
   "source": [
    "#Q11\n",
    "\"\"\"\n",
    "population standard deviation and sample standard deviation.\n",
    " \n",
    "Work out the Mean (the simple average of the numbers),\n",
    "Then for each number: subtract the Mean and square the result,\n",
    "Then work out the mean of those squared differences,\n",
    "Take the square root of that and we are done.\n",
    "\n",
    "In statistics, the empirical rule states that 99.7% of data occurs within three standard deviations of the mean within a normal distribution.\n",
    "the standard deviation = √0.2564 = 0.5064. Fourth, calculate three-sigma, which is three standard deviations above the mean. In numerical format, this is (3 x 0.5064) + 9.34 = 10.9.\n",
    "\"\"\""
   ]
  },
  {
   "cell_type": "code",
   "execution_count": 13,
   "id": "6d7c8a20",
   "metadata": {},
   "outputs": [
    {
     "data": {
      "text/plain": [
       "'\\nA more powerful pattern is to use Boolean arrays as masks, to select particular subsets of the data themselves.\\nit returns a one-dimensional array filled with all the values\\n'"
      ]
     },
     "execution_count": 13,
     "metadata": {},
     "output_type": "execute_result"
    }
   ],
   "source": [
    "#Q12\n",
    "\"\"\"\n",
    "A more powerful pattern is to use Boolean arrays as masks, to select particular subsets of the data themselves.\n",
    "it returns a one-dimensional array filled with all the values\n",
    "\"\"\""
   ]
  },
  {
   "cell_type": "code",
   "execution_count": null,
   "id": "a3fb0668",
   "metadata": {},
   "outputs": [],
   "source": []
  }
 ],
 "metadata": {
  "kernelspec": {
   "display_name": "Python 3 (ipykernel)",
   "language": "python",
   "name": "python3"
  },
  "language_info": {
   "codemirror_mode": {
    "name": "ipython",
    "version": 3
   },
   "file_extension": ".py",
   "mimetype": "text/x-python",
   "name": "python",
   "nbconvert_exporter": "python",
   "pygments_lexer": "ipython3",
   "version": "3.10.9"
  }
 },
 "nbformat": 4,
 "nbformat_minor": 5
}
